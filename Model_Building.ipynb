{
  "nbformat": 4,
  "nbformat_minor": 0,
  "metadata": {
    "colab": {
      "provenance": [],
      "gpuType": "T4",
      "mount_file_id": "1xlqmps8-WdMRF-P4fIQIZc7swqUQbiD8",
      "authorship_tag": "ABX9TyOEPCFGWdvQpW89Vaj86OpX",
      "include_colab_link": true
    },
    "kernelspec": {
      "name": "python3",
      "display_name": "Python 3"
    },
    "language_info": {
      "name": "python"
    },
    "accelerator": "GPU"
  },
  "cells": [
    {
      "cell_type": "markdown",
      "metadata": {
        "id": "view-in-github",
        "colab_type": "text"
      },
      "source": [
        "<a href=\"https://colab.research.google.com/github/sudip234-source/Fake-job-Discovery/blob/main/Model_Building.ipynb\" target=\"_parent\"><img src=\"https://colab.research.google.com/assets/colab-badge.svg\" alt=\"Open In Colab\"/></a>"
      ]
    },
    {
      "cell_type": "code",
      "execution_count": null,
      "metadata": {
        "id": "x2FJzn9g5qCv"
      },
      "outputs": [],
      "source": [
        "import numpy as np\n",
        "import pandas as pd\n",
        "import matplotlib.pyplot as plt\n",
        "import seaborn as sns"
      ]
    },
    {
      "cell_type": "code",
      "source": [
        "df = pd.read_csv('/content/drive/MyDrive/fake_job_postings.csv')"
      ],
      "metadata": {
        "id": "hu4w0AGu6xKA"
      },
      "execution_count": null,
      "outputs": []
    },
    {
      "cell_type": "markdown",
      "source": [
        "## Data Preprocessing & Feature Engineering"
      ],
      "metadata": {
        "id": "Ikv9emSy8Oww"
      }
    },
    {
      "cell_type": "code",
      "source": [
        "df.required_education.value_counts()"
      ],
      "metadata": {
        "colab": {
          "base_uri": "https://localhost:8080/",
          "height": 523
        },
        "id": "JQaVt5Tr7163",
        "outputId": "7a81f93a-32ee-4a06-ab84-6649496812ad"
      },
      "execution_count": null,
      "outputs": [
        {
          "output_type": "execute_result",
          "data": {
            "text/plain": [
              "required_education\n",
              "Bachelor's Degree                    5145\n",
              "High School or equivalent            2080\n",
              "Unspecified                          1397\n",
              "Master's Degree                       416\n",
              "Associate Degree                      274\n",
              "Certification                         170\n",
              "Some College Coursework Completed     102\n",
              "Professional                           74\n",
              "Vocational                             49\n",
              "Some High School Coursework            27\n",
              "Doctorate                              26\n",
              "Vocational - HS Diploma                 9\n",
              "Vocational - Degree                     6\n",
              "Name: count, dtype: int64"
            ],
            "text/html": [
              "<div>\n",
              "<style scoped>\n",
              "    .dataframe tbody tr th:only-of-type {\n",
              "        vertical-align: middle;\n",
              "    }\n",
              "\n",
              "    .dataframe tbody tr th {\n",
              "        vertical-align: top;\n",
              "    }\n",
              "\n",
              "    .dataframe thead th {\n",
              "        text-align: right;\n",
              "    }\n",
              "</style>\n",
              "<table border=\"1\" class=\"dataframe\">\n",
              "  <thead>\n",
              "    <tr style=\"text-align: right;\">\n",
              "      <th></th>\n",
              "      <th>count</th>\n",
              "    </tr>\n",
              "    <tr>\n",
              "      <th>required_education</th>\n",
              "      <th></th>\n",
              "    </tr>\n",
              "  </thead>\n",
              "  <tbody>\n",
              "    <tr>\n",
              "      <th>Bachelor's Degree</th>\n",
              "      <td>5145</td>\n",
              "    </tr>\n",
              "    <tr>\n",
              "      <th>High School or equivalent</th>\n",
              "      <td>2080</td>\n",
              "    </tr>\n",
              "    <tr>\n",
              "      <th>Unspecified</th>\n",
              "      <td>1397</td>\n",
              "    </tr>\n",
              "    <tr>\n",
              "      <th>Master's Degree</th>\n",
              "      <td>416</td>\n",
              "    </tr>\n",
              "    <tr>\n",
              "      <th>Associate Degree</th>\n",
              "      <td>274</td>\n",
              "    </tr>\n",
              "    <tr>\n",
              "      <th>Certification</th>\n",
              "      <td>170</td>\n",
              "    </tr>\n",
              "    <tr>\n",
              "      <th>Some College Coursework Completed</th>\n",
              "      <td>102</td>\n",
              "    </tr>\n",
              "    <tr>\n",
              "      <th>Professional</th>\n",
              "      <td>74</td>\n",
              "    </tr>\n",
              "    <tr>\n",
              "      <th>Vocational</th>\n",
              "      <td>49</td>\n",
              "    </tr>\n",
              "    <tr>\n",
              "      <th>Some High School Coursework</th>\n",
              "      <td>27</td>\n",
              "    </tr>\n",
              "    <tr>\n",
              "      <th>Doctorate</th>\n",
              "      <td>26</td>\n",
              "    </tr>\n",
              "    <tr>\n",
              "      <th>Vocational - HS Diploma</th>\n",
              "      <td>9</td>\n",
              "    </tr>\n",
              "    <tr>\n",
              "      <th>Vocational - Degree</th>\n",
              "      <td>6</td>\n",
              "    </tr>\n",
              "  </tbody>\n",
              "</table>\n",
              "</div><br><label><b>dtype:</b> int64</label>"
            ]
          },
          "metadata": {},
          "execution_count": 4
        }
      ]
    },
    {
      "cell_type": "code",
      "source": [
        "from sklearn.feature_extraction.text import TfidfVectorizer\n",
        "from sklearn.model_selection import train_test_split\n",
        "from sklearn.preprocessing import LabelEncoder\n",
        "from scipy.sparse import hstack,csr_matrix"
      ],
      "metadata": {
        "id": "RFXDVvfX7odX"
      },
      "execution_count": null,
      "outputs": []
    },
    {
      "cell_type": "code",
      "source": [
        "ordinal_cols = ['required_experience', 'required_education']\n",
        "le = LabelEncoder()\n",
        "for col in ordinal_cols:\n",
        "  if col in df.columns:\n",
        "    df[col] = df[col].fillna('unknown')\n",
        "    df[col] = le.fit_transform(df[col])"
      ],
      "metadata": {
        "id": "4rhY5O-V9I-X"
      },
      "execution_count": null,
      "outputs": []
    },
    {
      "cell_type": "code",
      "source": [
        "binary_col = ['telecommuting', 'has_company_logo', 'has_questions']\n",
        "\n",
        "categorical_cols = ['location', 'department', 'salary_range', 'employment_type', 'industry', 'function']\n",
        "for col in categorical_cols:\n",
        "  if col in df.columns:\n",
        "    df[col] = df[col].fillna('unknown')\n",
        "df_nominal = pd.get_dummies(df[categorical_cols],drop_first=True) # one hot encoding avoiding multicolliearity"
      ],
      "metadata": {
        "id": "emjGwk_L-yFa"
      },
      "execution_count": null,
      "outputs": []
    },
    {
      "cell_type": "code",
      "source": [
        "text_cols = ['title', 'company_profile', 'description', 'requirements', 'benefits']\n",
        "tfidf_vectors = []\n",
        "for col in text_cols:\n",
        "  if col in df.columns:\n",
        "    df[col] = df[col].fillna('')\n",
        "    vect = TfidfVectorizer(max_features=500)\n",
        "    tfidf_vec = vect.fit_transform(df[col])\n",
        "    tfidf_vectors.append(tfidf_vec)"
      ],
      "metadata": {
        "id": "oKS9keHeAcl5"
      },
      "execution_count": null,
      "outputs": []
    },
    {
      "cell_type": "code",
      "source": [
        "tfidf_vectors[0].toarray().nonzero()"
      ],
      "metadata": {
        "colab": {
          "base_uri": "https://localhost:8080/"
        },
        "id": "E4mTQWLLDGw0",
        "outputId": "ad289df3-be2c-46dd-afde-c8548d8f90f8"
      },
      "execution_count": null,
      "outputs": [
        {
          "output_type": "execute_result",
          "data": {
            "text/plain": [
              "(array([    0,     0,     1, ..., 17879, 17879, 17879]),\n",
              " array([245, 285,  97, ...,  34, 144, 485]))"
            ]
          },
          "metadata": {},
          "execution_count": 20
        }
      ]
    },
    {
      "cell_type": "code",
      "source": [
        "numeric_cols = ordinal_cols + binary_col\n",
        "df_numeric = df[numeric_cols]\n",
        "numeric_sparse = csr_matrix(df_numeric.values)\n",
        "\n",
        "#tfidf vectors are already sparse, and stacking sparse with dense arrays is inefficient.\n",
        "X = hstack(tfidf_vectors + [numeric_sparse])\n",
        "y = df.fraudulent.values"
      ],
      "metadata": {
        "id": "aEUvkTbqD9vv"
      },
      "execution_count": null,
      "outputs": []
    },
    {
      "cell_type": "code",
      "source": [
        "X.shape,y.shape"
      ],
      "metadata": {
        "colab": {
          "base_uri": "https://localhost:8080/"
        },
        "id": "QOuxC8VFIc54",
        "outputId": "f0b10e7d-eabd-4aa7-c356-6339b3af52dd"
      },
      "execution_count": null,
      "outputs": [
        {
          "output_type": "execute_result",
          "data": {
            "text/plain": [
              "((17880, 2505), (17880,))"
            ]
          },
          "metadata": {},
          "execution_count": 23
        }
      ]
    },
    {
      "cell_type": "markdown",
      "source": [
        "## Model Creation & Evaluation"
      ],
      "metadata": {
        "id": "Z4jNNkIBLBRS"
      }
    },
    {
      "cell_type": "code",
      "source": [
        "def random_sample(X,y):\n",
        "  real_idx = np.where(y==0)[0]\n",
        "  fake_idx = np.where(y==1)[0]\n",
        "\n",
        "  np.random.seed(42)\n",
        "  real_idx_sampled = np.random.choice(real_idx,size = len(fake_idx),replace=False)\n",
        "\n",
        "  balanced_idx = np.concatenate([real_idx_sampled,fake_idx])\n",
        "  X_balanced = X[balanced_idx]\n",
        "  y_balanced = y[balanced_idx]\n",
        "\n",
        "  return train_test_split(X_balanced,y_balanced,test_size=0.2,random_state=42,stratify=y_balanced)\n"
      ],
      "metadata": {
        "id": "lm1ED702Ousj"
      },
      "execution_count": null,
      "outputs": []
    },
    {
      "cell_type": "code",
      "source": [
        "def without_sampling(X,y):\n",
        "  return train_test_split(X,y,test_size=0.2,random_state=42)\n"
      ],
      "metadata": {
        "id": "CO5oW-F-Iga0"
      },
      "execution_count": null,
      "outputs": []
    },
    {
      "cell_type": "markdown",
      "source": [
        "### Supervised Learnings"
      ],
      "metadata": {
        "id": "5vBDnMWILpYK"
      }
    },
    {
      "cell_type": "code",
      "source": [
        "from sklearn.metrics import classification_report\n",
        "def model_without_sampling(clf):\n",
        "  X_train,X_test,y_train,y_test = without_sampling(X,y)\n",
        "  clf.fit(X_train,y_train)\n",
        "  y_pred = clf.predict(X_test)\n",
        "  print(f\"{clf} without sampling\")\n",
        "  print(classification_report(y_test,y_pred))"
      ],
      "metadata": {
        "id": "FoJ0qtzlLZJW"
      },
      "execution_count": null,
      "outputs": []
    },
    {
      "cell_type": "code",
      "source": [
        "def model_with_sampling(clf):\n",
        "  X_train,X_test,y_train,y_test = random_sample(X,y)\n",
        "  clf.fit(X_train,y_train)\n",
        "  y_pred = clf.predict(X_test)\n",
        "  print(f\"{clf} with sampling\")\n",
        "  print(classification_report(y_test,y_pred))"
      ],
      "metadata": {
        "id": "Hz2LcjnuSS4z"
      },
      "execution_count": null,
      "outputs": []
    },
    {
      "cell_type": "code",
      "source": [
        "from sklearn.linear_model import LogisticRegression\n",
        "lr = LogisticRegression(max_iter=1000,random_state=42)\n",
        "model_without_sampling(lr)"
      ],
      "metadata": {
        "colab": {
          "base_uri": "https://localhost:8080/"
        },
        "id": "5iDP9tFZMnEp",
        "outputId": "30fdaa5b-cae6-4751-d24b-8d21f876bcd7"
      },
      "execution_count": null,
      "outputs": [
        {
          "output_type": "stream",
          "name": "stdout",
          "text": [
            "LogisticRegression(max_iter=1000, random_state=42)\n",
            "              precision    recall  f1-score   support\n",
            "\n",
            "           0       0.98      1.00      0.99      3395\n",
            "           1       0.90      0.62      0.74       181\n",
            "\n",
            "    accuracy                           0.98      3576\n",
            "   macro avg       0.94      0.81      0.86      3576\n",
            "weighted avg       0.98      0.98      0.98      3576\n",
            "\n"
          ]
        }
      ]
    },
    {
      "cell_type": "code",
      "source": [
        "model_with_sampling(LogisticRegression(max_iter=1000,random_state=42))"
      ],
      "metadata": {
        "colab": {
          "base_uri": "https://localhost:8080/"
        },
        "id": "7jcmWccENGnn",
        "outputId": "6b2df29a-25b7-4c42-dab5-1feb39877407"
      },
      "execution_count": null,
      "outputs": [
        {
          "output_type": "stream",
          "name": "stdout",
          "text": [
            "LogisticRegression(max_iter=1000, random_state=42)\n",
            "              precision    recall  f1-score   support\n",
            "\n",
            "           0       0.97      0.86      0.91       174\n",
            "           1       0.88      0.98      0.92       173\n",
            "\n",
            "    accuracy                           0.92       347\n",
            "   macro avg       0.92      0.92      0.92       347\n",
            "weighted avg       0.92      0.92      0.92       347\n",
            "\n"
          ]
        }
      ]
    },
    {
      "cell_type": "code",
      "source": [
        "from sklearn.naive_bayes import MultinomialNB\n",
        "model_without_sampling(MultinomialNB())\n",
        "model_with_sampling(MultinomialNB())"
      ],
      "metadata": {
        "colab": {
          "base_uri": "https://localhost:8080/"
        },
        "id": "2u3Z9TXhS38K",
        "outputId": "c3fade55-c9b0-46a9-f7f6-40e04fcc6bae"
      },
      "execution_count": null,
      "outputs": [
        {
          "output_type": "stream",
          "name": "stdout",
          "text": [
            "MultinomialNB()\n",
            "              precision    recall  f1-score   support\n",
            "\n",
            "           0       0.99      0.96      0.97      3395\n",
            "           1       0.50      0.73      0.60       181\n",
            "\n",
            "    accuracy                           0.95      3576\n",
            "   macro avg       0.74      0.85      0.78      3576\n",
            "weighted avg       0.96      0.95      0.95      3576\n",
            "\n",
            "MultinomialNB()\n",
            "              precision    recall  f1-score   support\n",
            "\n",
            "           0       0.90      0.85      0.87       174\n",
            "           1       0.86      0.90      0.88       173\n",
            "\n",
            "    accuracy                           0.88       347\n",
            "   macro avg       0.88      0.88      0.88       347\n",
            "weighted avg       0.88      0.88      0.88       347\n",
            "\n"
          ]
        }
      ]
    },
    {
      "cell_type": "code",
      "source": [
        "from sklearn.ensemble import RandomForestClassifier\n",
        "model_without_sampling(RandomForestClassifier(random_state=42))\n",
        "model_with_sampling(RandomForestClassifier(random_state=42))"
      ],
      "metadata": {
        "colab": {
          "base_uri": "https://localhost:8080/"
        },
        "id": "0nSgF7buUa7x",
        "outputId": "1bb58b84-fe2b-487a-aab2-2d447aba8103"
      },
      "execution_count": null,
      "outputs": [
        {
          "output_type": "stream",
          "name": "stdout",
          "text": [
            "RandomForestClassifier(random_state=42) without sampling\n",
            "              precision    recall  f1-score   support\n",
            "\n",
            "           0       0.98      1.00      0.99      3395\n",
            "           1       1.00      0.65      0.79       181\n",
            "\n",
            "    accuracy                           0.98      3576\n",
            "   macro avg       0.99      0.83      0.89      3576\n",
            "weighted avg       0.98      0.98      0.98      3576\n",
            "\n",
            "RandomForestClassifier(random_state=42) with sampling\n",
            "              precision    recall  f1-score   support\n",
            "\n",
            "           0       0.97      0.89      0.92       174\n",
            "           1       0.89      0.97      0.93       173\n",
            "\n",
            "    accuracy                           0.93       347\n",
            "   macro avg       0.93      0.93      0.93       347\n",
            "weighted avg       0.93      0.93      0.93       347\n",
            "\n"
          ]
        }
      ]
    },
    {
      "cell_type": "code",
      "source": [
        "from sklearn.linear_model import SGDClassifier\n",
        "model_without_sampling(SGDClassifier(loss='log_loss'))\n",
        "model_with_sampling(SGDClassifier(loss='log_loss'))"
      ],
      "metadata": {
        "colab": {
          "base_uri": "https://localhost:8080/"
        },
        "id": "FFQdOvgpVNQE",
        "outputId": "1a24f3f7-bfda-4520-b899-047bd8f23ce3"
      },
      "execution_count": null,
      "outputs": [
        {
          "output_type": "stream",
          "name": "stdout",
          "text": [
            "SGDClassifier(loss='log_loss') without sampling\n",
            "              precision    recall  f1-score   support\n",
            "\n",
            "           0       0.97      1.00      0.98      3395\n",
            "           1       0.97      0.37      0.54       181\n",
            "\n",
            "    accuracy                           0.97      3576\n",
            "   macro avg       0.97      0.68      0.76      3576\n",
            "weighted avg       0.97      0.97      0.96      3576\n",
            "\n",
            "SGDClassifier(loss='log_loss') with sampling\n",
            "              precision    recall  f1-score   support\n",
            "\n",
            "           0       0.94      0.92      0.93       174\n",
            "           1       0.92      0.94      0.93       173\n",
            "\n",
            "    accuracy                           0.93       347\n",
            "   macro avg       0.93      0.93      0.93       347\n",
            "weighted avg       0.93      0.93      0.93       347\n",
            "\n"
          ]
        }
      ]
    },
    {
      "cell_type": "code",
      "source": [
        "import matplotlib.pyplot as plt\n",
        "import numpy as np\n",
        "\n",
        "# Metrics and scores\n",
        "metrics = ['Precision', 'Recall', 'F1-Score']\n",
        "lr_scores = [0.92, 0.92, 0.92]\n",
        "nb_scores = [0.88, 0.88, 0.88]\n",
        "rf_scores = [0.93, 0.93, 0.93]\n",
        "sgd_scores = [0.93, 0.93, 0.93]\n",
        "\n",
        "# Set positions\n",
        "x = np.arange(len(metrics))  # [0, 1, 2]\n",
        "width = 0.2  # Width of each bar\n",
        "\n",
        "# Create plot\n",
        "plt.figure(figsize=(10, 6))\n",
        "plt.bar(x - 1.5*width, lr_scores, width, label='Logistic Regression')\n",
        "plt.bar(x - 0.5*width, nb_scores, width, label='Naive Bayes')\n",
        "plt.bar(x + 0.5*width, rf_scores, width, label='Random Forest')\n",
        "plt.bar(x + 1.5*width, sgd_scores, width, label='SGD')\n",
        "\n",
        "# Aesthetics\n",
        "plt.xticks(x, metrics)\n",
        "plt.ylabel('Score')\n",
        "plt.ylim(0.85, 0.95)\n",
        "plt.title('Model Comparison on Precision, Recall, and F1-Score')\n",
        "plt.legend()\n",
        "plt.grid(axis='y', linestyle='--', alpha=0.5)\n",
        "plt.tight_layout()\n",
        "\n",
        "# Show plot\n",
        "plt.show()\n",
        "\n"
      ],
      "metadata": {
        "colab": {
          "base_uri": "https://localhost:8080/",
          "height": 464
        },
        "id": "a7dbSRgjVtHQ",
        "outputId": "8b4e6366-b1fd-4c60-bb8f-d8e56a1251ab"
      },
      "execution_count": null,
      "outputs": [
        {
          "output_type": "display_data",
          "data": {
            "text/plain": [
              "<Figure size 1000x600 with 1 Axes>"
            ],
            "image/png": "[encoded data removed]"
          },
          "metadata": {}
        }
      ]
    },
    {
      "cell_type": "code",
      "source": [
        "import matplotlib.pyplot as plt\n",
        "import numpy as np\n",
        "\n",
        "# Metrics and scores\n",
        "metrics = ['Precision', 'Recall', 'F1-Score']\n",
        "lr_scores = [0.94  ,    0.81  ,    0.86]\n",
        "nb_scores = [0.74  ,    0.85  ,    0.78]\n",
        "rf_scores = [0.99  ,    0.83   ,   0.89]\n",
        "sgd_scores = [0.97   ,   0.68   ,   0.76]\n",
        "\n",
        "# Set positions\n",
        "x = np.arange(len(metrics))  # [0, 1, 2]\n",
        "width = 0.2  # Width of each bar\n",
        "\n",
        "# Create plot\n",
        "plt.figure(figsize=(10, 6))\n",
        "plt.bar(x - 1.5*width, lr_scores, width, label='Logistic Regression')\n",
        "plt.bar(x - 0.5*width, nb_scores, width, label='Naive Bayes')\n",
        "plt.bar(x + 0.5*width, rf_scores, width, label='Random Forest')\n",
        "plt.bar(x + 1.5*width, sgd_scores, width, label='SGD')\n",
        "\n",
        "# Aesthetics\n",
        "plt.xticks(x, metrics)\n",
        "plt.ylabel('Score')\n",
        "plt.ylim(0.65, 1)\n",
        "plt.title('Model Comparison on Precision, Recall, and F1-Score without sampling')\n",
        "plt.legend()\n",
        "plt.grid(axis='y', linestyle='--', alpha=0.5)\n",
        "plt.tight_layout()\n",
        "\n",
        "# Show plot\n",
        "plt.show()\n"
      ],
      "metadata": {
        "colab": {
          "base_uri": "https://localhost:8080/",
          "height": 464
        },
        "id": "EQfxcnreYUxN",
        "outputId": "cd9d4167-564c-49e6-a808-c0174697da44"
      },
      "execution_count": null,
      "outputs": [
        {
          "output_type": "display_data",
          "data": {
            "text/plain": [
              "<Figure size 1000x600 with 1 Axes>"
            ],
            "image/png": "[encoded data removed]"
          },
          "metadata": {}
        }
      ]
    },
    {
      "cell_type": "code",
      "source": [
        "from sklearn.ensemble import RandomForestClassifier\n",
        "from sklearn.model_selection import RandomizedSearchCV\n",
        "from sklearn.metrics import classification_report\n",
        "import numpy as np\n",
        "\n",
        "# Define parameter distributions for Random Forest\n",
        "param_dist_rf = {\n",
        "    'n_estimators': [100, 200, 300, 400, 500],\n",
        "    'max_depth': [None, 10, 20, 30, 40, 50],\n",
        "    'min_samples_split': [2, 5, 10],\n",
        "    'min_samples_leaf': [1, 2, 4],\n",
        "    'bootstrap': [True, False]\n",
        "}\n",
        "\n",
        "# Define the model\n",
        "rf = RandomForestClassifier(random_state=42)\n",
        "\n",
        "# RandomizedSearchCV\n",
        "random_search_rf = RandomizedSearchCV(\n",
        "    estimator=rf,\n",
        "    param_distributions=param_dist_rf,\n",
        "    n_iter=30,        # Number of combinations to try\n",
        "    cv=3,             # 3-fold cross-validation\n",
        "    scoring='f1',     # Optimize F1-score\n",
        "    random_state=42,\n",
        "    n_jobs=-1\n",
        ")\n",
        "\n",
        "# Train the model\n",
        "X_train,X_test,y_train,y_test = without_sampling(X,y)\n",
        "random_search_rf.fit(X_train, y_train)\n",
        "\n",
        "# Results\n",
        "print(\"Best parameters:\", random_search_rf.best_params_)\n",
        "print(\"Best CV F1 score:\", random_search_rf.best_score_)\n",
        "\n",
        "# Predictions and final report\n",
        "# model_without_sampling(random_search_rf.best_estimator_)\n",
        "model_without_sampling(random_search_rf.best_estimator_)"
      ],
      "metadata": {
        "colab": {
          "base_uri": "https://localhost:8080/"
        },
        "id": "qG3aIloIZFyz",
        "outputId": "0072d3e2-5962-4e7b-9a74-e774b0be344b"
      },
      "execution_count": null,
      "outputs": [
        {
          "output_type": "stream",
          "name": "stdout",
          "text": [
            "Best parameters: {'n_estimators': 300, 'min_samples_split': 2, 'min_samples_leaf': 1, 'max_depth': None, 'bootstrap': False}\n",
            "Best CV F1 score: 0.7545075908702183\n",
            "RandomForestClassifier(bootstrap=False, n_estimators=300, random_state=42) without sampling\n",
            "              precision    recall  f1-score   support\n",
            "\n",
            "           0       0.98      1.00      0.99      3395\n",
            "           1       1.00      0.66      0.79       181\n",
            "\n",
            "    accuracy                           0.98      3576\n",
            "   macro avg       0.99      0.83      0.89      3576\n",
            "weighted avg       0.98      0.98      0.98      3576\n",
            "\n"
          ]
        }
      ]
    },
    {
      "cell_type": "code",
      "source": [
        "from sklearn.ensemble import RandomForestClassifier\n",
        "from sklearn.model_selection import RandomizedSearchCV\n",
        "from sklearn.metrics import classification_report\n",
        "import numpy as np\n",
        "\n",
        "# Define parameter distributions for Random Forest\n",
        "param_dist_rf = {\n",
        "    'n_estimators': [100, 200, 300, 400, 500],\n",
        "    'max_depth': [None, 10, 20, 30, 40, 50],\n",
        "    'min_samples_split': [2, 5, 10],\n",
        "    'min_samples_leaf': [1, 2, 4],\n",
        "    'bootstrap': [True, False]\n",
        "}\n",
        "\n",
        "# Define the model\n",
        "rf = RandomForestClassifier(random_state=42)\n",
        "\n",
        "# RandomizedSearchCV\n",
        "random_search_rf = RandomizedSearchCV(\n",
        "    estimator=rf,\n",
        "    param_distributions=param_dist_rf,\n",
        "    n_iter=30,        # Number of combinations to try\n",
        "    cv=3,             # 3-fold cross-validation\n",
        "    scoring='f1',     # Optimize F1-score\n",
        "    random_state=42,\n",
        "    n_jobs=-1\n",
        ")\n",
        "\n",
        "# Train the model\n",
        "X_train,X_test,y_train,y_test = random_sample(X,y)\n",
        "random_search_rf.fit(X_train, y_train)\n",
        "\n",
        "# Results\n",
        "print(\"Best parameters:\", random_search_rf.best_params_)\n",
        "print(\"Best CV F1 score:\", random_search_rf.best_score_)\n",
        "\n",
        "# Predictions and final report\n",
        "model_with_sampling(random_search_rf.best_estimator_)\n",
        "# model_without_sampling(random_search_rf.best_estimator_)"
      ],
      "metadata": {
        "colab": {
          "base_uri": "https://localhost:8080/"
        },
        "id": "-LxheFIaht0H",
        "outputId": "7356f9fc-0d32-48f6-c7ff-a55195c99c61"
      },
      "execution_count": null,
      "outputs": [
        {
          "output_type": "stream",
          "name": "stdout",
          "text": [
            "Best parameters: {'n_estimators': 300, 'min_samples_split': 2, 'min_samples_leaf': 1, 'max_depth': None, 'bootstrap': False}\n",
            "Best CV F1 score: 0.9264564711333128\n",
            "RandomForestClassifier(bootstrap=False, n_estimators=300, random_state=42) with sampling\n",
            "              precision    recall  f1-score   support\n",
            "\n",
            "           0       0.97      0.90      0.93       174\n",
            "           1       0.91      0.97      0.94       173\n",
            "\n",
            "    accuracy                           0.94       347\n",
            "   macro avg       0.94      0.94      0.94       347\n",
            "weighted avg       0.94      0.94      0.94       347\n",
            "\n"
          ]
        }
      ]
    },
    {
      "cell_type": "code",
      "source": [],
      "metadata": {
        "id": "XqZoeNd4gFik"
      },
      "execution_count": null,
      "outputs": []
    }
  ]
}